{
 "cells": [
  {
   "cell_type": "code",
   "execution_count": 2,
   "id": "4d4e162d-7f43-4493-a7c5-890207ad615a",
   "metadata": {
    "scrolled": true
   },
   "outputs": [
    {
     "name": "stdout",
     "output_type": "stream",
     "text": [
      "Defaulting to user installation because normal site-packages is not writeable\n",
      "Collecting numpy\n",
      "  Downloading numpy-2.2.4-cp312-cp312-win_amd64.whl.metadata (60 kB)\n",
      "     ---------------------------------------- 0.0/60.8 kB ? eta -:--:--\n",
      "     ---------------------------------------- 60.8/60.8 kB 3.2 MB/s eta 0:00:00\n",
      "Downloading numpy-2.2.4-cp312-cp312-win_amd64.whl (12.6 MB)\n",
      "   ---------------------------------------- 0.0/12.6 MB ? eta -:--:--\n",
      "   - -------------------------------------- 0.4/12.6 MB 12.6 MB/s eta 0:00:01\n",
      "   -- ------------------------------------- 0.7/12.6 MB 9.1 MB/s eta 0:00:02\n",
      "   -- ------------------------------------- 0.9/12.6 MB 7.0 MB/s eta 0:00:02\n",
      "   --- ------------------------------------ 1.1/12.6 MB 6.2 MB/s eta 0:00:02\n",
      "   --- ------------------------------------ 1.3/12.6 MB 5.7 MB/s eta 0:00:02\n",
      "   ---- ----------------------------------- 1.4/12.6 MB 5.4 MB/s eta 0:00:03\n",
      "   ----- ---------------------------------- 1.6/12.6 MB 5.1 MB/s eta 0:00:03\n",
      "   ----- ---------------------------------- 1.8/12.6 MB 4.9 MB/s eta 0:00:03\n",
      "   ------ --------------------------------- 2.0/12.6 MB 4.8 MB/s eta 0:00:03\n",
      "   ------ --------------------------------- 2.1/12.6 MB 4.7 MB/s eta 0:00:03\n",
      "   ------- -------------------------------- 2.3/12.6 MB 4.6 MB/s eta 0:00:03\n",
      "   ------- -------------------------------- 2.5/12.6 MB 4.5 MB/s eta 0:00:03\n",
      "   -------- ------------------------------- 2.7/12.6 MB 4.5 MB/s eta 0:00:03\n",
      "   --------- ------------------------------ 2.8/12.6 MB 4.4 MB/s eta 0:00:03\n",
      "   --------- ------------------------------ 3.0/12.6 MB 4.4 MB/s eta 0:00:03\n",
      "   ---------- ----------------------------- 3.2/12.6 MB 4.3 MB/s eta 0:00:03\n",
      "   ---------- ----------------------------- 3.4/12.6 MB 4.3 MB/s eta 0:00:03\n",
      "   ----------- ---------------------------- 3.6/12.6 MB 4.3 MB/s eta 0:00:03\n",
      "   ----------- ---------------------------- 3.7/12.6 MB 4.2 MB/s eta 0:00:03\n",
      "   ------------ --------------------------- 3.9/12.6 MB 4.2 MB/s eta 0:00:03\n",
      "   ------------ --------------------------- 4.1/12.6 MB 4.2 MB/s eta 0:00:03\n",
      "   ------------- -------------------------- 4.2/12.6 MB 4.2 MB/s eta 0:00:03\n",
      "   ------------- -------------------------- 4.4/12.6 MB 4.2 MB/s eta 0:00:02\n",
      "   -------------- ------------------------- 4.6/12.6 MB 4.1 MB/s eta 0:00:02\n",
      "   --------------- ------------------------ 4.8/12.6 MB 4.1 MB/s eta 0:00:02\n",
      "   --------------- ------------------------ 5.0/12.6 MB 4.1 MB/s eta 0:00:02\n",
      "   ---------------- ----------------------- 5.1/12.6 MB 4.1 MB/s eta 0:00:02\n",
      "   ---------------- ----------------------- 5.3/12.6 MB 4.0 MB/s eta 0:00:02\n",
      "   ----------------- ---------------------- 5.4/12.6 MB 4.0 MB/s eta 0:00:02\n",
      "   ----------------- ---------------------- 5.6/12.6 MB 4.0 MB/s eta 0:00:02\n",
      "   ----------------- ---------------------- 5.7/12.6 MB 3.9 MB/s eta 0:00:02\n",
      "   ------------------ --------------------- 5.8/12.6 MB 3.9 MB/s eta 0:00:02\n",
      "   ------------------ --------------------- 6.0/12.6 MB 3.9 MB/s eta 0:00:02\n",
      "   ------------------- -------------------- 6.1/12.6 MB 3.9 MB/s eta 0:00:02\n",
      "   ------------------- -------------------- 6.3/12.6 MB 3.9 MB/s eta 0:00:02\n",
      "   -------------------- ------------------- 6.5/12.6 MB 3.9 MB/s eta 0:00:02\n",
      "   --------------------- ------------------ 6.7/12.6 MB 3.9 MB/s eta 0:00:02\n",
      "   --------------------- ------------------ 6.8/12.6 MB 3.9 MB/s eta 0:00:02\n",
      "   ---------------------- ----------------- 7.0/12.6 MB 3.9 MB/s eta 0:00:02\n",
      "   ---------------------- ----------------- 7.2/12.6 MB 3.9 MB/s eta 0:00:02\n",
      "   ----------------------- ---------------- 7.4/12.6 MB 3.9 MB/s eta 0:00:02\n",
      "   ----------------------- ---------------- 7.5/12.6 MB 3.9 MB/s eta 0:00:02\n",
      "   ------------------------ --------------- 7.7/12.6 MB 3.9 MB/s eta 0:00:02\n",
      "   ------------------------- -------------- 7.9/12.6 MB 3.8 MB/s eta 0:00:02\n",
      "   ------------------------- -------------- 8.1/12.6 MB 3.8 MB/s eta 0:00:02\n",
      "   -------------------------- ------------- 8.3/12.6 MB 3.9 MB/s eta 0:00:02\n",
      "   -------------------------- ------------- 8.4/12.6 MB 3.9 MB/s eta 0:00:02\n",
      "   --------------------------- ------------ 8.6/12.6 MB 3.8 MB/s eta 0:00:02\n",
      "   --------------------------- ------------ 8.8/12.6 MB 3.8 MB/s eta 0:00:02\n",
      "   ---------------------------- ----------- 9.0/12.6 MB 3.8 MB/s eta 0:00:01\n",
      "   ---------------------------- ----------- 9.1/12.6 MB 3.8 MB/s eta 0:00:01\n",
      "   ----------------------------- ---------- 9.3/12.6 MB 3.8 MB/s eta 0:00:01\n",
      "   ------------------------------ --------- 9.5/12.6 MB 3.8 MB/s eta 0:00:01\n",
      "   ------------------------------ --------- 9.7/12.6 MB 3.8 MB/s eta 0:00:01\n",
      "   ------------------------------- -------- 9.9/12.6 MB 3.8 MB/s eta 0:00:01\n",
      "   ------------------------------- -------- 10.0/12.6 MB 3.8 MB/s eta 0:00:01\n",
      "   -------------------------------- ------- 10.2/12.6 MB 3.8 MB/s eta 0:00:01\n",
      "   -------------------------------- ------- 10.4/12.6 MB 3.8 MB/s eta 0:00:01\n",
      "   --------------------------------- ------ 10.5/12.6 MB 3.7 MB/s eta 0:00:01\n",
      "   --------------------------------- ------ 10.7/12.6 MB 3.7 MB/s eta 0:00:01\n",
      "   ---------------------------------- ----- 10.9/12.6 MB 3.7 MB/s eta 0:00:01\n",
      "   ----------------------------------- ---- 11.1/12.6 MB 3.7 MB/s eta 0:00:01\n",
      "   ----------------------------------- ---- 11.3/12.6 MB 3.7 MB/s eta 0:00:01\n",
      "   ------------------------------------ --- 11.4/12.6 MB 3.7 MB/s eta 0:00:01\n",
      "   ------------------------------------ --- 11.6/12.6 MB 3.7 MB/s eta 0:00:01\n",
      "   ------------------------------------- -- 11.8/12.6 MB 3.7 MB/s eta 0:00:01\n",
      "   ------------------------------------- -- 12.0/12.6 MB 3.7 MB/s eta 0:00:01\n",
      "   -------------------------------------- - 12.1/12.6 MB 3.7 MB/s eta 0:00:01\n",
      "   -------------------------------------- - 12.3/12.6 MB 3.7 MB/s eta 0:00:01\n",
      "   ---------------------------------------  12.5/12.6 MB 3.7 MB/s eta 0:00:01\n",
      "   ---------------------------------------  12.6/12.6 MB 3.7 MB/s eta 0:00:01\n",
      "   ---------------------------------------  12.6/12.6 MB 3.7 MB/s eta 0:00:01\n",
      "   ---------------------------------------- 12.6/12.6 MB 3.6 MB/s eta 0:00:00\n",
      "Installing collected packages: numpy\n",
      "Successfully installed numpy-2.2.4\n"
     ]
    },
    {
     "name": "stderr",
     "output_type": "stream",
     "text": [
      "\n",
      "[notice] A new release of pip is available: 24.1.2 -> 25.0.1\n",
      "[notice] To update, run: python.exe -m pip install --upgrade pip\n"
     ]
    }
   ],
   "source": [
    "!pip install numpy\n"
   ]
  },
  {
   "cell_type": "code",
   "execution_count": 8,
   "id": "271116d4-717d-4691-a763-1f409e37ec4e",
   "metadata": {},
   "outputs": [
    {
     "name": "stdout",
     "output_type": "stream",
     "text": [
      "Defaulting to user installation because normal site-packages is not writeable\n",
      "Requirement already satisfied: tensorflow in c:\\users\\pradnya\\appdata\\roaming\\python\\python312\\site-packages (2.19.0)\n",
      "Requirement already satisfied: absl-py>=1.0.0 in c:\\users\\pradnya\\appdata\\roaming\\python\\python312\\site-packages (from tensorflow) (2.2.2)\n",
      "Requirement already satisfied: astunparse>=1.6.0 in c:\\users\\pradnya\\appdata\\roaming\\python\\python312\\site-packages (from tensorflow) (1.6.3)\n",
      "Requirement already satisfied: flatbuffers>=24.3.25 in c:\\users\\pradnya\\appdata\\roaming\\python\\python312\\site-packages (from tensorflow) (25.2.10)\n",
      "Requirement already satisfied: gast!=0.5.0,!=0.5.1,!=0.5.2,>=0.2.1 in c:\\users\\pradnya\\appdata\\roaming\\python\\python312\\site-packages (from tensorflow) (0.6.0)\n",
      "Requirement already satisfied: google-pasta>=0.1.1 in c:\\users\\pradnya\\appdata\\roaming\\python\\python312\\site-packages (from tensorflow) (0.2.0)\n",
      "Requirement already satisfied: libclang>=13.0.0 in c:\\users\\pradnya\\appdata\\roaming\\python\\python312\\site-packages (from tensorflow) (18.1.1)\n",
      "Requirement already satisfied: opt-einsum>=2.3.2 in c:\\users\\pradnya\\appdata\\roaming\\python\\python312\\site-packages (from tensorflow) (3.4.0)\n",
      "Requirement already satisfied: packaging in c:\\users\\pradnya\\appdata\\roaming\\python\\python312\\site-packages (from tensorflow) (24.2)\n",
      "Requirement already satisfied: protobuf!=4.21.0,!=4.21.1,!=4.21.2,!=4.21.3,!=4.21.4,!=4.21.5,<6.0.0dev,>=3.20.3 in c:\\users\\pradnya\\appdata\\roaming\\python\\python312\\site-packages (from tensorflow) (5.29.4)\n",
      "Requirement already satisfied: requests<3,>=2.21.0 in c:\\users\\pradnya\\appdata\\roaming\\python\\python312\\site-packages (from tensorflow) (2.32.3)\n",
      "Requirement already satisfied: setuptools in c:\\users\\pradnya\\appdata\\roaming\\python\\python312\\site-packages (from tensorflow) (78.1.0)\n",
      "Requirement already satisfied: six>=1.12.0 in c:\\users\\pradnya\\appdata\\roaming\\python\\python312\\site-packages (from tensorflow) (1.17.0)\n",
      "Requirement already satisfied: termcolor>=1.1.0 in c:\\users\\pradnya\\appdata\\roaming\\python\\python312\\site-packages (from tensorflow) (3.0.1)\n",
      "Requirement already satisfied: typing-extensions>=3.6.6 in c:\\users\\pradnya\\appdata\\roaming\\python\\python312\\site-packages (from tensorflow) (4.13.1)\n",
      "Requirement already satisfied: wrapt>=1.11.0 in c:\\users\\pradnya\\appdata\\roaming\\python\\python312\\site-packages (from tensorflow) (1.17.2)\n",
      "Requirement already satisfied: grpcio<2.0,>=1.24.3 in c:\\users\\pradnya\\appdata\\roaming\\python\\python312\\site-packages (from tensorflow) (1.71.0)\n",
      "Requirement already satisfied: tensorboard~=2.19.0 in c:\\users\\pradnya\\appdata\\roaming\\python\\python312\\site-packages (from tensorflow) (2.19.0)\n",
      "Requirement already satisfied: keras>=3.5.0 in c:\\users\\pradnya\\appdata\\roaming\\python\\python312\\site-packages (from tensorflow) (3.9.2)\n",
      "Requirement already satisfied: numpy<2.2.0,>=1.26.0 in c:\\users\\pradnya\\appdata\\roaming\\python\\python312\\site-packages (from tensorflow) (2.1.3)\n",
      "Requirement already satisfied: h5py>=3.11.0 in c:\\users\\pradnya\\appdata\\roaming\\python\\python312\\site-packages (from tensorflow) (3.13.0)\n",
      "Requirement already satisfied: ml-dtypes<1.0.0,>=0.5.1 in c:\\users\\pradnya\\appdata\\roaming\\python\\python312\\site-packages (from tensorflow) (0.5.1)\n",
      "Requirement already satisfied: wheel<1.0,>=0.23.0 in c:\\users\\pradnya\\appdata\\roaming\\python\\python312\\site-packages (from astunparse>=1.6.0->tensorflow) (0.45.1)\n",
      "Requirement already satisfied: rich in c:\\users\\pradnya\\appdata\\roaming\\python\\python312\\site-packages (from keras>=3.5.0->tensorflow) (14.0.0)\n",
      "Requirement already satisfied: namex in c:\\users\\pradnya\\appdata\\roaming\\python\\python312\\site-packages (from keras>=3.5.0->tensorflow) (0.0.8)\n",
      "Requirement already satisfied: optree in c:\\users\\pradnya\\appdata\\roaming\\python\\python312\\site-packages (from keras>=3.5.0->tensorflow) (0.14.1)\n",
      "Requirement already satisfied: charset-normalizer<4,>=2 in c:\\users\\pradnya\\appdata\\roaming\\python\\python312\\site-packages (from requests<3,>=2.21.0->tensorflow) (3.4.1)\n",
      "Requirement already satisfied: idna<4,>=2.5 in c:\\users\\pradnya\\appdata\\roaming\\python\\python312\\site-packages (from requests<3,>=2.21.0->tensorflow) (3.10)\n",
      "Requirement already satisfied: urllib3<3,>=1.21.1 in c:\\users\\pradnya\\appdata\\roaming\\python\\python312\\site-packages (from requests<3,>=2.21.0->tensorflow) (2.3.0)\n",
      "Requirement already satisfied: certifi>=2017.4.17 in c:\\users\\pradnya\\appdata\\roaming\\python\\python312\\site-packages (from requests<3,>=2.21.0->tensorflow) (2025.1.31)\n",
      "Requirement already satisfied: markdown>=2.6.8 in c:\\users\\pradnya\\appdata\\roaming\\python\\python312\\site-packages (from tensorboard~=2.19.0->tensorflow) (3.7)\n",
      "Requirement already satisfied: tensorboard-data-server<0.8.0,>=0.7.0 in c:\\users\\pradnya\\appdata\\roaming\\python\\python312\\site-packages (from tensorboard~=2.19.0->tensorflow) (0.7.2)\n",
      "Requirement already satisfied: werkzeug>=1.0.1 in c:\\users\\pradnya\\appdata\\roaming\\python\\python312\\site-packages (from tensorboard~=2.19.0->tensorflow) (3.1.3)\n",
      "Requirement already satisfied: MarkupSafe>=2.1.1 in c:\\users\\pradnya\\appdata\\roaming\\python\\python312\\site-packages (from werkzeug>=1.0.1->tensorboard~=2.19.0->tensorflow) (3.0.2)\n",
      "Requirement already satisfied: markdown-it-py>=2.2.0 in c:\\users\\pradnya\\appdata\\roaming\\python\\python312\\site-packages (from rich->keras>=3.5.0->tensorflow) (3.0.0)\n",
      "Requirement already satisfied: pygments<3.0.0,>=2.13.0 in c:\\users\\pradnya\\appdata\\roaming\\python\\python312\\site-packages (from rich->keras>=3.5.0->tensorflow) (2.19.1)\n",
      "Requirement already satisfied: mdurl~=0.1 in c:\\users\\pradnya\\appdata\\roaming\\python\\python312\\site-packages (from markdown-it-py>=2.2.0->rich->keras>=3.5.0->tensorflow) (0.1.2)\n"
     ]
    },
    {
     "name": "stderr",
     "output_type": "stream",
     "text": [
      "\n",
      "[notice] A new release of pip is available: 24.1.2 -> 25.0.1\n",
      "[notice] To update, run: python.exe -m pip install --upgrade pip\n"
     ]
    }
   ],
   "source": [
    "!pip install tensorflow\n"
   ]
  },
  {
   "cell_type": "code",
   "execution_count": 13,
   "id": "2b2e9004-4349-495b-8f54-6152e5015484",
   "metadata": {},
   "outputs": [
    {
     "name": "stdout",
     "output_type": "stream",
     "text": [
      "Defaulting to user installation because normal site-packages is not writeable\n",
      "Requirement already satisfied: matplotlib in c:\\users\\pradnya\\appdata\\roaming\\python\\python312\\site-packages (3.10.1)\n",
      "Requirement already satisfied: contourpy>=1.0.1 in c:\\users\\pradnya\\appdata\\roaming\\python\\python312\\site-packages (from matplotlib) (1.3.1)\n",
      "Requirement already satisfied: cycler>=0.10 in c:\\users\\pradnya\\appdata\\roaming\\python\\python312\\site-packages (from matplotlib) (0.12.1)\n",
      "Requirement already satisfied: fonttools>=4.22.0 in c:\\users\\pradnya\\appdata\\roaming\\python\\python312\\site-packages (from matplotlib) (4.57.0)\n",
      "Requirement already satisfied: kiwisolver>=1.3.1 in c:\\users\\pradnya\\appdata\\roaming\\python\\python312\\site-packages (from matplotlib) (1.4.8)\n",
      "Requirement already satisfied: numpy>=1.23 in c:\\users\\pradnya\\appdata\\roaming\\python\\python312\\site-packages (from matplotlib) (2.1.3)\n",
      "Requirement already satisfied: packaging>=20.0 in c:\\users\\pradnya\\appdata\\roaming\\python\\python312\\site-packages (from matplotlib) (24.2)\n",
      "Requirement already satisfied: pillow>=8 in c:\\users\\pradnya\\appdata\\roaming\\python\\python312\\site-packages (from matplotlib) (11.1.0)\n",
      "Requirement already satisfied: pyparsing>=2.3.1 in c:\\users\\pradnya\\appdata\\roaming\\python\\python312\\site-packages (from matplotlib) (3.2.3)\n",
      "Requirement already satisfied: python-dateutil>=2.7 in c:\\users\\pradnya\\appdata\\roaming\\python\\python312\\site-packages (from matplotlib) (2.9.0.post0)\n",
      "Requirement already satisfied: six>=1.5 in c:\\users\\pradnya\\appdata\\roaming\\python\\python312\\site-packages (from python-dateutil>=2.7->matplotlib) (1.17.0)\n"
     ]
    },
    {
     "name": "stderr",
     "output_type": "stream",
     "text": [
      "\n",
      "[notice] A new release of pip is available: 24.1.2 -> 25.0.1\n",
      "[notice] To update, run: python.exe -m pip install --upgrade pip\n"
     ]
    }
   ],
   "source": [
    "!pip install matplotlib\n"
   ]
  },
  {
   "cell_type": "code",
   "execution_count": 25,
   "id": "9a924737-fadb-475c-9565-e15df96f8fde",
   "metadata": {},
   "outputs": [],
   "source": [
    "import numpy as np\n",
    "from tensorflow.keras.datasets import mnist\n",
    "from tensorflow.keras.models import Sequential\n",
    "from tensorflow.keras.layers import Dense, Flatten\n",
    "from matplotlib import pyplot as plt"
   ]
  },
  {
   "cell_type": "code",
   "execution_count": 14,
   "id": "3ac7e595-494b-449c-b147-c3a966bf98b3",
   "metadata": {},
   "outputs": [
    {
     "name": "stdout",
     "output_type": "stream",
     "text": [
      "Downloading data from https://storage.googleapis.com/tensorflow/tf-keras-datasets/mnist.npz\n",
      "\u001b[1m11490434/11490434\u001b[0m \u001b[32m━━━━━━━━━━━━━━━━━━━━\u001b[0m\u001b[37m\u001b[0m \u001b[1m4s\u001b[0m 0us/step\n"
     ]
    }
   ],
   "source": [
    "# Load the MNIST dataset\n",
    "(train_x, train_y), (test_x, test_y) = mnist.load_data()"
   ]
  },
  {
   "cell_type": "code",
   "execution_count": 15,
   "id": "9626e97c-3fff-4623-8034-b866eabfe175",
   "metadata": {},
   "outputs": [
    {
     "name": "stdout",
     "output_type": "stream",
     "text": [
      "X train: (60000, 28, 28)\n",
      "Y train: (60000,)\n",
      "X test: (10000, 28, 28)\n",
      "Y test: (10000,)\n"
     ]
    }
   ],
   "source": [
    "# Print the shapes of the datasets\n",
    "print('X train:', train_x.shape)\n",
    "print('Y train:', train_y.shape)\n",
    "print('X test:', test_x.shape)\n",
    "print('Y test:', test_y.shape)"
   ]
  },
  {
   "cell_type": "code",
   "execution_count": 16,
   "id": "5c9f3713-9e88-4684-99bf-b991dae92cef",
   "metadata": {},
   "outputs": [
    {
     "data": {
      "image/png": "[encoded data removed]",
      "text/plain": [
       "<Figure size 600x600 with 9 Axes>"
      ]
     },
     "metadata": {},
     "output_type": "display_data"
    }
   ],
   "source": [
    "# Display the first 9 images from the training set\n",
    "plt.figure(figsize=(6, 6))\n",
    "for i in range(9):\n",
    "    plt.subplot(330 + 1 + i)\n",
    "    plt.imshow(train_x[i], cmap=plt.get_cmap('gray'))\n",
    "    plt.axis('off')\n",
    "plt.show()"
   ]
  },
  {
   "cell_type": "code",
   "execution_count": 17,
   "id": "aaae23ad-7f21-48f8-b624-6b1f275154ff",
   "metadata": {},
   "outputs": [],
   "source": [
    "# Normalize the data\n",
    "train_x = train_x.astype('float32') / 255.0\n",
    "test_x = test_x.astype('float32') / 255.0"
   ]
  },
  {
   "cell_type": "code",
   "execution_count": 18,
   "id": "035b8bf4-5042-48ea-b83d-73934ff3527b",
   "metadata": {},
   "outputs": [
    {
     "name": "stderr",
     "output_type": "stream",
     "text": [
      "C:\\Users\\Pradnya\\AppData\\Roaming\\Python\\Python312\\site-packages\\keras\\src\\layers\\reshaping\\flatten.py:37: UserWarning: Do not pass an `input_shape`/`input_dim` argument to a layer. When using Sequential models, prefer using an `Input(shape)` object as the first layer in the model instead.\n",
      "  super().__init__(**kwargs)\n"
     ]
    }
   ],
   "source": [
    "# Build the model\n",
    "model = Sequential()\n",
    "model.add(Flatten(input_shape=(28, 28)))\n",
    "model.add(Dense(128, activation='relu'))\n",
    "model.add(Dense(10, activation='softmax'))"
   ]
  },
  {
   "cell_type": "code",
   "execution_count": 19,
   "id": "2ed94efd-64f4-4509-ba31-4ec811901098",
   "metadata": {},
   "outputs": [],
   "source": [
    "# Compile the model\n",
    "model.compile(optimizer='adam', loss='sparse_categorical_crossentropy', metrics=['accuracy'])"
   ]
  },
  {
   "cell_type": "code",
   "execution_count": 20,
   "id": "2b2b16dc-8663-480e-addb-deb5ebfdecf0",
   "metadata": {},
   "outputs": [
    {
     "name": "stdout",
     "output_type": "stream",
     "text": [
      "Epoch 1/10\n",
      "\u001b[1m1688/1688\u001b[0m \u001b[32m━━━━━━━━━━━━━━━━━━━━\u001b[0m\u001b[37m\u001b[0m \u001b[1m7s\u001b[0m 3ms/step - accuracy: 0.8703 - loss: 0.4553 - val_accuracy: 0.9640 - val_loss: 0.1292\n",
      "Epoch 2/10\n",
      "\u001b[1m1688/1688\u001b[0m \u001b[32m━━━━━━━━━━━━━━━━━━━━\u001b[0m\u001b[37m\u001b[0m \u001b[1m6s\u001b[0m 3ms/step - accuracy: 0.9610 - loss: 0.1298 - val_accuracy: 0.9728 - val_loss: 0.0963\n",
      "Epoch 3/10\n",
      "\u001b[1m1688/1688\u001b[0m \u001b[32m━━━━━━━━━━━━━━━━━━━━\u001b[0m\u001b[37m\u001b[0m \u001b[1m5s\u001b[0m 3ms/step - accuracy: 0.9766 - loss: 0.0817 - val_accuracy: 0.9748 - val_loss: 0.0928\n",
      "Epoch 4/10\n",
      "\u001b[1m1688/1688\u001b[0m \u001b[32m━━━━━━━━━━━━━━━━━━━━\u001b[0m\u001b[37m\u001b[0m \u001b[1m4s\u001b[0m 3ms/step - accuracy: 0.9824 - loss: 0.0611 - val_accuracy: 0.9752 - val_loss: 0.0863\n",
      "Epoch 5/10\n",
      "\u001b[1m1688/1688\u001b[0m \u001b[32m━━━━━━━━━━━━━━━━━━━━\u001b[0m\u001b[37m\u001b[0m \u001b[1m5s\u001b[0m 3ms/step - accuracy: 0.9854 - loss: 0.0482 - val_accuracy: 0.9772 - val_loss: 0.0808\n",
      "Epoch 6/10\n",
      "\u001b[1m1688/1688\u001b[0m \u001b[32m━━━━━━━━━━━━━━━━━━━━\u001b[0m\u001b[37m\u001b[0m \u001b[1m5s\u001b[0m 3ms/step - accuracy: 0.9904 - loss: 0.0333 - val_accuracy: 0.9780 - val_loss: 0.0819\n",
      "Epoch 7/10\n",
      "\u001b[1m1688/1688\u001b[0m \u001b[32m━━━━━━━━━━━━━━━━━━━━\u001b[0m\u001b[37m\u001b[0m \u001b[1m5s\u001b[0m 3ms/step - accuracy: 0.9920 - loss: 0.0282 - val_accuracy: 0.9788 - val_loss: 0.0805\n",
      "Epoch 8/10\n",
      "\u001b[1m1688/1688\u001b[0m \u001b[32m━━━━━━━━━━━━━━━━━━━━\u001b[0m\u001b[37m\u001b[0m \u001b[1m6s\u001b[0m 3ms/step - accuracy: 0.9924 - loss: 0.0240 - val_accuracy: 0.9787 - val_loss: 0.0785\n",
      "Epoch 9/10\n",
      "\u001b[1m1688/1688\u001b[0m \u001b[32m━━━━━━━━━━━━━━━━━━━━\u001b[0m\u001b[37m\u001b[0m \u001b[1m6s\u001b[0m 3ms/step - accuracy: 0.9948 - loss: 0.0179 - val_accuracy: 0.9792 - val_loss: 0.0860\n",
      "Epoch 10/10\n",
      "\u001b[1m1688/1688\u001b[0m \u001b[32m━━━━━━━━━━━━━━━━━━━━\u001b[0m\u001b[37m\u001b[0m \u001b[1m6s\u001b[0m 3ms/step - accuracy: 0.9954 - loss: 0.0147 - val_accuracy: 0.9808 - val_loss: 0.0830\n"
     ]
    },
    {
     "data": {
      "text/plain": [
       "<keras.src.callbacks.history.History at 0x1d697c88a10>"
      ]
     },
     "execution_count": 20,
     "metadata": {},
     "output_type": "execute_result"
    }
   ],
   "source": [
    "# Train the model\n",
    "model.fit(train_x, train_y, epochs=10, batch_size=32, validation_split=0.1)\n"
   ]
  },
  {
   "cell_type": "code",
   "execution_count": 21,
   "id": "74aefe5b-564e-43c6-9339-024f61f8fcd0",
   "metadata": {},
   "outputs": [
    {
     "name": "stdout",
     "output_type": "stream",
     "text": [
      "\u001b[1m313/313\u001b[0m \u001b[32m━━━━━━━━━━━━━━━━━━━━\u001b[0m\u001b[37m\u001b[0m \u001b[1m1s\u001b[0m 2ms/step - accuracy: 0.9769 - loss: 0.0830\n",
      "\n",
      "Test Loss: 0.06953157484531403\n",
      "Test Accuracy: 0.9807000160217285\n"
     ]
    }
   ],
   "source": [
    "# Evaluate the model\n",
    "loss, accuracy = model.evaluate(test_x, test_y)\n",
    "print(\"\\nTest Loss:\", loss)\n",
    "print(\"Test Accuracy:\", accuracy)"
   ]
  },
  {
   "cell_type": "code",
   "execution_count": 22,
   "id": "4c2501b5-a9b1-4b59-93c7-84c9691987f7",
   "metadata": {},
   "outputs": [
    {
     "name": "stdout",
     "output_type": "stream",
     "text": [
      "\u001b[1m313/313\u001b[0m \u001b[32m━━━━━━━━━━━━━━━━━━━━\u001b[0m\u001b[37m\u001b[0m \u001b[1m1s\u001b[0m 2ms/step\n"
     ]
    }
   ],
   "source": [
    "# Make predictions\n",
    "predictions = model.predict(test_x)\n"
   ]
  },
  {
   "cell_type": "code",
   "execution_count": 23,
   "id": "21eb89e4-b394-4036-8c62-7626a77ee5c6",
   "metadata": {},
   "outputs": [
    {
     "name": "stdout",
     "output_type": "stream",
     "text": [
      "\n",
      "Probabilities: [8.2715568e-09 2.3057768e-10 1.6720875e-07 2.4844406e-04 1.3970539e-12\n",
      " 7.6889500e-10 6.5339329e-14 9.9973887e-01 4.1240264e-06 8.3854429e-06]\n",
      "Prediction: 7\n",
      "Actual: 7\n"
     ]
    }
   ],
   "source": [
    "# Show prediction for the first test image\n",
    "print(\"\\nProbabilities:\", predictions[0])\n",
    "print(\"Prediction:\", np.argmax(predictions[0]))\n",
    "print(\"Actual:\", test_y[0])"
   ]
  },
  {
   "cell_type": "code",
   "execution_count": 24,
   "id": "e97e9064-322d-465a-8f26-e17bba6e9874",
   "metadata": {},
   "outputs": [
    {
     "data": {
      "image/png": "[encoded data removed]",
      "text/plain": [
       "<Figure size 640x480 with 1 Axes>"
      ]
     },
     "metadata": {},
     "output_type": "display_data"
    }
   ],
   "source": [
    "# Display the first test image\n",
    "plt.imshow(test_x[0], cmap=plt.get_cmap('gray'))\n",
    "plt.title(f\"Predicted: {np.argmax(predictions[0])}, Actual: {test_y[0]}\")\n",
    "plt.axis('off')\n",
    "plt.show()"
   ]
  },
  {
   "cell_type": "code",
   "execution_count": null,
   "id": "e741b1ad-c0fc-44a6-a61b-3025d2e73060",
   "metadata": {},
   "outputs": [],
   "source": []
  }
 ],
 "metadata": {
  "kernelspec": {
   "display_name": "Python 3 (ipykernel)",
   "language": "python",
   "name": "python3"
  },
  "language_info": {
   "codemirror_mode": {
    "name": "ipython",
    "version": 3
   },
   "file_extension": ".py",
   "mimetype": "text/x-python",
   "name": "python",
   "nbconvert_exporter": "python",
   "pygments_lexer": "ipython3",
   "version": "3.12.4"
  }
 },
 "nbformat": 4,
 "nbformat_minor": 5
}
