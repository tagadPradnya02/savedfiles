{
 "cells": [
  {
   "cell_type": "code",
   "execution_count": 1,
   "id": "46fb4b76-a5dc-4a5c-8483-26dd63077ef0",
   "metadata": {},
   "outputs": [],
   "source": [
    "import numpy as np"
   ]
  },
  {
   "cell_type": "code",
   "execution_count": 8,
   "id": "c37019cc-0413-4515-aee3-a0fe230b1976",
   "metadata": {},
   "outputs": [
    {
     "name": "stdout",
     "output_type": "stream",
     "text": [
      "z1 = 0.2999999999999998\n",
      "z2 = 0.1\n",
      "\n",
      "Predicted Heating Power Output: 4.35\n",
      "Predicted Valve Opening Output: 1.57\n"
     ]
    }
   ],
   "source": [
    "# Triangular Fuzzy Set Class\n",
    "class TriangularFuzzySet:\n",
    "    def __init__(self, a, b, c):\n",
    "        self.a = a\n",
    "        self.b = b\n",
    "        self.c = c\n",
    "\n",
    "    def membership(self, x):\n",
    "        if x <= self.a or x >= self.c:\n",
    "            return 0\n",
    "        elif self.a < x <= self.b:\n",
    "            return (x - self.a) / (self.b - self.a)\n",
    "        elif self.b < x < self.c:\n",
    "            return (self.c - x) / (self.c - self.b)\n",
    "\n",
    "    def centroid(self):\n",
    "        return self.b  # Peak is the centroid for a triangle\n",
    "\n",
    "    def area(self):\n",
    "        return 0.5 * (self.c - self.a)  # Base * height (height=1)\n",
    "\n",
    "# Define fuzzy sets\n",
    "temperature_below_average = TriangularFuzzySet(15, 20, 40)\n",
    "temperature_low = TriangularFuzzySet(-5, 0, 25)\n",
    "\n",
    "pressure_below_average = TriangularFuzzySet(0.75, 1.25, 1.75)\n",
    "pressure_low = TriangularFuzzySet(1.25, 1.75, 2.25)\n",
    "\n",
    "heating_power_medium_high = TriangularFuzzySet(3.25, 4.25, 5.25)\n",
    "heating_power_high = TriangularFuzzySet(4.25, 4.75, 5.75)\n",
    "\n",
    "valve_opening_medium_low = TriangularFuzzySet(1.25, 1.75, 2.75)\n",
    "valve_opening_small = TriangularFuzzySet(0.25, 0.75, 1.25)\n",
    "\n",
    "# Given inputs\n",
    "temperature_input = 22.5\n",
    "pressure_input = 1.6\n",
    "\n",
    "# Fuzzification\n",
    "z1 = min(temperature_below_average.membership(temperature_input),\n",
    "         pressure_below_average.membership(pressure_input))\n",
    "\n",
    "z2 = min(temperature_low.membership(temperature_input),\n",
    "         pressure_low.membership(pressure_input))\n",
    "\n",
    "print(\"z1 =\", z1)\n",
    "print(\"z2 =\", z2)\n",
    "\n",
    "# Defuzzification using weighted average\n",
    "\n",
    "# Heating power\n",
    "hp_num = (z1 * heating_power_medium_high.centroid() * heating_power_medium_high.area()) + \\\n",
    "         (z2 * heating_power_high.centroid() * heating_power_high.area())\n",
    "hp_den = (z1 * heating_power_medium_high.area()) + \\\n",
    "         (z2 * heating_power_high.area())\n",
    "\n",
    "# Valve opening\n",
    "valve_num = (z1 * valve_opening_medium_low.centroid() * valve_opening_medium_low.area()) + \\\n",
    "            (z2 * valve_opening_small.centroid() * valve_opening_small.area())\n",
    "valve_den = (z1 * valve_opening_medium_low.area()) + \\\n",
    "            (z2 * valve_opening_small.area())\n",
    "\n",
    "# Final crisp outputs\n",
    "heating_output = hp_num / (hp_den + 1e-6)\n",
    "valve_output = valve_num / (valve_den + 1e-6)\n",
    "\n",
    "print(f\"\\nPredicted Heating Power Output: {heating_output:.2f}\")\n",
    "print(f\"Predicted Valve Opening Output: {valve_output:.2f}\")\n"
   ]
  },
  {
   "cell_type": "code",
   "execution_count": null,
   "id": "ec30be60-c80c-4289-8285-96e56e9ae8c9",
   "metadata": {},
   "outputs": [],
   "source": []
  }
 ],
 "metadata": {
  "kernelspec": {
   "display_name": "Python 3 (ipykernel)",
   "language": "python",
   "name": "python3"
  },
  "language_info": {
   "codemirror_mode": {
    "name": "ipython",
    "version": 3
   },
   "file_extension": ".py",
   "mimetype": "text/x-python",
   "name": "python",
   "nbconvert_exporter": "python",
   "pygments_lexer": "ipython3",
   "version": "3.12.4"
  }
 },
 "nbformat": 4,
 "nbformat_minor": 5
}
