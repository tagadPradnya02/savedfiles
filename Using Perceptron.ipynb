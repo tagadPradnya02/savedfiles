{
 "cells": [
  {
   "cell_type": "code",
   "execution_count": 1,
   "id": "0e034216-4d68-419e-a1b2-79c8952b2138",
   "metadata": {},
   "outputs": [
    {
     "name": "stdout",
     "output_type": "stream",
     "text": [
      "Expected = 0, Predicted = 1\n",
      "Expected = 0, Predicted = 0\n",
      "Expected = 0, Predicted = 1\n",
      "Expected = 0, Predicted = 0\n",
      "Expected = 0, Predicted = 1\n",
      "Expected = 1, Predicted = 1\n",
      "Expected = 1, Predicted = 1\n",
      "Expected = 1, Predicted = 1\n",
      "Expected = 1, Predicted = 1\n",
      "Expected = 1, Predicted = 1\n"
     ]
    }
   ],
   "source": [
    "# Predict function using simple perceptron logic\n",
    "def predict(row, weights):\n",
    "    activation = weights[0]  # bias term\n",
    "    for i in range(len(row) - 1):\n",
    "        activation += weights[i + 1] * row[i]\n",
    "    return 1.0 if activation >= 0.0 else 0.0\n",
    "\n",
    "# Sample dataset: [x1, x2, label]\n",
    "dataset = [\n",
    "    [2.7810836, 2.550537003, 0],\n",
    "    [1.465489372, 2.362125076, 0],\n",
    "    [3.396561688, 4.400293529, 0],\n",
    "    [1.38807019, 1.850220317, 0],\n",
    "    [3.06407232, 3.005305973, 0],\n",
    "    [7.627531214, 2.759262235, 1],\n",
    "    [5.332441248, 2.088626775, 1],\n",
    "    [6.922596716, 1.77106367, 1],\n",
    "    [8.675418651, -0.242068655, 1],\n",
    "    [7.673756466, 3.508563811, 1]\n",
    "]\n",
    "\n",
    "# Example weights: [bias, weight1, weight2]\n",
    "weights = [-8.1, 1.637, 2.061]\n",
    "\n",
    "# Make predictions\n",
    "for row in dataset:\n",
    "    prediction = predict(row, weights)\n",
    "    print(f\"Expected = {int(row[-1])}, Predicted = {int(prediction)}\")\n"
   ]
  },
  {
   "cell_type": "code",
   "execution_count": 2,
   "id": "7d57c697-07c8-48a8-9018-ed2d92f8474c",
   "metadata": {},
   "outputs": [
    {
     "name": "stdout",
     "output_type": "stream",
     "text": [
      ">epoch=0, lrate=0.100, error=2.000\n",
      ">epoch=1, lrate=0.100, error=3.000\n",
      ">epoch=2, lrate=0.100, error=3.000\n",
      ">epoch=3, lrate=0.100, error=0.000\n",
      ">epoch=4, lrate=0.100, error=0.000\n",
      "[-0.20000000000000004, 0.1, 0.2]\n"
     ]
    }
   ],
   "source": [
    "#single-layer perceptron using the stochastic gradient descent method (AND function)\n",
    "def train_weights(train, l_rate, n_epoch):\n",
    "    weights = [0.0 for i in range(len(train[0]))]\n",
    "    for epoch in range(n_epoch):\n",
    "        sum_error = 0.0\n",
    "        for row in train:\n",
    "            prediction = predict(row, weights)\n",
    "            error = row[-1] - prediction\n",
    "            sum_error += error**2\n",
    "            weights[0] = weights[0] + l_rate * error #formula when weight is 0\n",
    "            for i in range(len(row) - 1):\n",
    "                weights[i+1] = weights[i+1] + l_rate * error * row[i] #formula when it is increase by i\n",
    "        print('>epoch=%d, lrate=%.3f, error=%.3f' % (epoch, l_rate, sum_error))\n",
    "    return weights\n",
    "\n",
    "dataset = [[0, 0, 0],\n",
    "           [1, 0, 0],\n",
    "           [0, 1, 0],\n",
    "           [1, 1, 1]]\n",
    "\n",
    "l_rate = 0.1\n",
    "n_epoch = 5\n",
    "weights = train_weights(dataset, l_rate, n_epoch)\n",
    "print(weights)\n"
   ]
  },
  {
   "cell_type": "code",
   "execution_count": 3,
   "id": "4d3c0c03-a27f-45ba-a35e-944f68f2957a",
   "metadata": {},
   "outputs": [
    {
     "name": "stdout",
     "output_type": "stream",
     "text": [
      ">epoch=0, lrate=0.100, error=1.462\n",
      ">epoch=1, lrate=0.100, error=1.675\n",
      ">epoch=2, lrate=0.100, error=1.093\n",
      ">epoch=3, lrate=0.100, error=0.657\n",
      ">epoch=4, lrate=0.100, error=0.431\n",
      "[-0.3804824598060469, 0.9418935309184603, -1.0141511150501201]\n"
     ]
    }
   ],
   "source": [
    "#sigmoid function using perceptron\n",
    "import math\n",
    "\n",
    "def sigmoid(x):\n",
    "    return 1 / (1 + math.exp(-x))\n",
    "\n",
    "def predict(row, weight):\n",
    "    activation = weight[0]\n",
    "    for i in range(len(row) - 1):\n",
    "        activation += weight[i + 1] * row[i]\n",
    "    return sigmoid(activation)\n",
    "\n",
    "# test predictions\n",
    "dataset = [\n",
    "    [2.7810836, 2.550537003, 0],\n",
    "    [1.465489372, 2.362125076, 0],\n",
    "    [3.396561688, 4.400293529, 0],\n",
    "    [1.38807019, 1.850220317, 0],\n",
    "    [3.06407232, 3.005305973, 0],\n",
    "    [7.627531214, 2.759262235, 1],\n",
    "    [5.332441248, 2.088626775, 1],\n",
    "    [6.922596716, 1.77106367, 1],\n",
    "    [8.675418651, -0.242068655, 1],\n",
    "    [7.673756466, 3.508563011, 1]\n",
    "]\n",
    "\n",
    "def train_weights(train, l_rate, n_epoch):\n",
    "    weights = [0.0 for i in range(len(train[0]))]\n",
    "    for epoch in range(n_epoch):\n",
    "        sum_error = 0.0\n",
    "        for row in train:\n",
    "            prediction = predict(row, weights)\n",
    "            error = row[-1] - prediction\n",
    "            sum_error += error ** 2\n",
    "            weights[0] = weights[0] + l_rate * error\n",
    "            for i in range(len(row) - 1):\n",
    "                weights[i + 1] = weights[i + 1] + l_rate * error * row[i]\n",
    "        print('>epoch=%d, lrate=%.3f, error=%.3f' % (epoch, l_rate, sum_error))\n",
    "    return weights\n",
    "\n",
    "l_rate = 0.1\n",
    "n_epoch = 5\n",
    "weights = train_weights(dataset, l_rate, n_epoch)\n",
    "print(weights)\n"
   ]
  },
  {
   "cell_type": "code",
   "execution_count": 4,
   "id": "67665ef6-7b87-47ef-8818-3037150068e9",
   "metadata": {},
   "outputs": [
    {
     "name": "stdout",
     "output_type": "stream",
     "text": [
      ">epoch=0, lrate=0.100, error=1.000\n",
      ">epoch=1, lrate=0.100, error=2.000\n",
      ">epoch=2, lrate=0.100, error=0.000\n",
      ">epoch=3, lrate=0.100, error=0.000\n",
      ">epoch=4, lrate=0.100, error=0.000\n",
      "[-0.1, 0.33809582420000006, -0.21533998440000002]\n"
     ]
    }
   ],
   "source": [
    "# tanh function using perceptron\n",
    "import math\n",
    "\n",
    "def tanh(x):\n",
    "    return math.tanh(x)  # math.exp(x) + math.exp(-x) / math.exp(x) + math.exp(-x)\n",
    "\n",
    "def predict(row, weight):\n",
    "    activation = weight[0]\n",
    "    for i in range(len(row)-1):\n",
    "        activation += weight[i+1] * row[i]\n",
    "    return 1.0 if tanh(activation) >= 0.5 else 0.0\n",
    "\n",
    "\n",
    "# test predictions\n",
    "dataset = [[2.7810836, 2.550537003, 0],\n",
    "           [1.465489372, 2.362125076, 0],\n",
    "           [3.396561688, 4.400293529, 0],\n",
    "           [1.38807019, 1.850220317, 0],\n",
    "           [3.06407232, 3.005305973, 0],\n",
    "           [7.627531214, 2.759262235, 1],\n",
    "           [5.332441248, 2.088626775, 1],\n",
    "           [6.922596716, 1.77106367, 1],\n",
    "           [8.675418651, -0.242068655, 1],\n",
    "           [7.673756466, 3.508563011, 1]]\n",
    "\n",
    "def train_weights(train, l_rate, n_epoch):\n",
    "    weights = [0.0 for i in range(len(train[0]))]\n",
    "    for epoch in range(n_epoch):\n",
    "        sum_error = 0.0\n",
    "        for row in train:\n",
    "            prediction = predict(row, weights)\n",
    "            error = row[-1] - prediction\n",
    "            sum_error += error**2\n",
    "            weights[0] = weights[0] + l_rate * error\n",
    "            for i in range(len(row)-1):\n",
    "                weights[i+1] = weights[i+1] + l_rate * error * row[i]\n",
    "        print('>epoch=%d, lrate=%.3f, error=%.3f' % (epoch, l_rate, sum_error))\n",
    "    return weights\n",
    "\n",
    "l_rate = 0.1\n",
    "n_epoch = 5\n",
    "weights = train_weights(dataset, l_rate, n_epoch)\n",
    "print(weights)\n"
   ]
  },
  {
   "cell_type": "code",
   "execution_count": 5,
   "id": "66aebd73-c1a2-4ffc-b73b-d732c625e46a",
   "metadata": {},
   "outputs": [
    {
     "name": "stdout",
     "output_type": "stream",
     "text": [
      ">epoch=0, lrate=0.100, error=2.000\n",
      ">epoch=1, lrate=0.100, error=1.000\n",
      ">epoch=2, lrate=0.100, error=0.000\n",
      ">epoch=3, lrate=0.100, error=0.000\n",
      ">epoch=4, lrate=0.100, error=0.000\n",
      "[-0.1, 0.1, 0.1]\n"
     ]
    }
   ],
   "source": [
    "# OR function using perceptron\n",
    "# OR Function\n",
    "def predict(row, weight):\n",
    "    activation = weight[0]\n",
    "    for i in range(len(row)-1):\n",
    "        activation += weight[i+1] * row[i]\n",
    "    return 1.0 if activation >= 0.0 else 0.0\n",
    "\n",
    "def train_weights(train, l_rate, n_epoch):\n",
    "    weights = [0.0 for i in range(len(train[0]))]\n",
    "    for epoch in range(n_epoch):\n",
    "        sum_error = 0.0\n",
    "        for row in train:\n",
    "            prediction = predict(row, weights)\n",
    "            error = row[-1] - prediction\n",
    "            sum_error += error**2\n",
    "            weights[0] = weights[0] + l_rate * error\n",
    "            for i in range(len(row)-1):\n",
    "                weights[i+1] = weights[i+1] + l_rate * error * row[i]\n",
    "        print('>epoch=%d, lrate=%.3f, error=%.3f' % (epoch, l_rate, sum_error))\n",
    "    return weights\n",
    "\n",
    "dataset = [[0, 1, 1],\n",
    "           [0, 0, 0],\n",
    "           [1, 1, 1],\n",
    "           [1, 0, 1]]\n",
    "\n",
    "l_rate = 0.1\n",
    "n_epoch = 5\n",
    "weights = train_weights(dataset, l_rate, n_epoch)\n",
    "print(weights)\n"
   ]
  },
  {
   "cell_type": "code",
   "execution_count": null,
   "id": "86774c18-1bfb-4b0e-bf8f-fa550a7b95f4",
   "metadata": {},
   "outputs": [],
   "source": [
    "# XOR Function Using perceptron\n",
    "It cannot solve Xor cz it is a single layer perceptron"
   ]
  }
 ],
 "metadata": {
  "kernelspec": {
   "display_name": "Python 3 (ipykernel)",
   "language": "python",
   "name": "python3"
  },
  "language_info": {
   "codemirror_mode": {
    "name": "ipython",
    "version": 3
   },
   "file_extension": ".py",
   "mimetype": "text/x-python",
   "name": "python",
   "nbconvert_exporter": "python",
   "pygments_lexer": "ipython3",
   "version": "3.12.4"
  }
 },
 "nbformat": 4,
 "nbformat_minor": 5
}
