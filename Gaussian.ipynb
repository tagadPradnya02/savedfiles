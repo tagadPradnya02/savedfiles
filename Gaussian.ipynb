{
 "cells": [
  {
   "cell_type": "code",
   "execution_count": 2,
   "id": "55bbe21a-5e66-4384-94a8-92c18d661c97",
   "metadata": {},
   "outputs": [
    {
     "name": "stdout",
     "output_type": "stream",
     "text": [
      "Defaulting to user installation because normal site-packages is not writeable\n",
      "Collecting pandas\n",
      "  Downloading pandas-2.2.3-cp312-cp312-win_amd64.whl.metadata (19 kB)\n",
      "Requirement already satisfied: numpy>=1.26.0 in c:\\users\\pradnya\\appdata\\roaming\\python\\python312\\site-packages (from pandas) (2.1.3)\n",
      "Requirement already satisfied: python-dateutil>=2.8.2 in c:\\users\\pradnya\\appdata\\roaming\\python\\python312\\site-packages (from pandas) (2.9.0.post0)\n",
      "Collecting pytz>=2020.1 (from pandas)\n",
      "  Downloading pytz-2025.2-py2.py3-none-any.whl.metadata (22 kB)\n",
      "Requirement already satisfied: tzdata>=2022.7 in c:\\users\\pradnya\\appdata\\roaming\\python\\python312\\site-packages (from pandas) (2024.1)\n",
      "Requirement already satisfied: six>=1.5 in c:\\users\\pradnya\\appdata\\roaming\\python\\python312\\site-packages (from python-dateutil>=2.8.2->pandas) (1.17.0)\n",
      "Downloading pandas-2.2.3-cp312-cp312-win_amd64.whl (11.5 MB)\n",
      "   ---------------------------------------- 0.0/11.5 MB ? eta -:--:--\n",
      "   ---------------------------------------- 0.1/11.5 MB 2.6 MB/s eta 0:00:05\n",
      "    --------------------------------------- 0.3/11.5 MB 3.2 MB/s eta 0:00:04\n",
      "   - -------------------------------------- 0.5/11.5 MB 3.8 MB/s eta 0:00:03\n",
      "   -- ------------------------------------- 0.8/11.5 MB 4.6 MB/s eta 0:00:03\n",
      "   --- ------------------------------------ 1.0/11.5 MB 4.6 MB/s eta 0:00:03\n",
      "   ---- ----------------------------------- 1.2/11.5 MB 4.5 MB/s eta 0:00:03\n",
      "   ---- ----------------------------------- 1.4/11.5 MB 4.4 MB/s eta 0:00:03\n",
      "   ----- ---------------------------------- 1.6/11.5 MB 4.3 MB/s eta 0:00:03\n",
      "   ------ --------------------------------- 1.7/11.5 MB 4.2 MB/s eta 0:00:03\n",
      "   ------ --------------------------------- 1.9/11.5 MB 4.1 MB/s eta 0:00:03\n",
      "   ------- -------------------------------- 2.1/11.5 MB 4.2 MB/s eta 0:00:03\n",
      "   ------- -------------------------------- 2.3/11.5 MB 4.1 MB/s eta 0:00:03\n",
      "   -------- ------------------------------- 2.4/11.5 MB 4.1 MB/s eta 0:00:03\n",
      "   -------- ------------------------------- 2.5/11.5 MB 3.9 MB/s eta 0:00:03\n",
      "   -------- ------------------------------- 2.6/11.5 MB 3.7 MB/s eta 0:00:03\n",
      "   --------- ------------------------------ 2.6/11.5 MB 3.6 MB/s eta 0:00:03\n",
      "   --------- ------------------------------ 2.8/11.5 MB 3.6 MB/s eta 0:00:03\n",
      "   ---------- ----------------------------- 3.0/11.5 MB 3.6 MB/s eta 0:00:03\n",
      "   ----------- ---------------------------- 3.3/11.5 MB 3.7 MB/s eta 0:00:03\n",
      "   ------------ --------------------------- 3.5/11.5 MB 3.7 MB/s eta 0:00:03\n",
      "   ------------ --------------------------- 3.6/11.5 MB 3.8 MB/s eta 0:00:03\n",
      "   ------------- -------------------------- 3.8/11.5 MB 3.8 MB/s eta 0:00:03\n",
      "   ------------- -------------------------- 4.0/11.5 MB 3.8 MB/s eta 0:00:03\n",
      "   -------------- ------------------------- 4.2/11.5 MB 3.8 MB/s eta 0:00:02\n",
      "   --------------- ------------------------ 4.4/11.5 MB 3.8 MB/s eta 0:00:02\n",
      "   --------------- ------------------------ 4.5/11.5 MB 3.7 MB/s eta 0:00:02\n",
      "   ---------------- ----------------------- 4.7/11.5 MB 3.8 MB/s eta 0:00:02\n",
      "   ---------------- ----------------------- 4.9/11.5 MB 3.8 MB/s eta 0:00:02\n",
      "   ----------------- ---------------------- 5.0/11.5 MB 3.7 MB/s eta 0:00:02\n",
      "   ------------------ --------------------- 5.2/11.5 MB 3.7 MB/s eta 0:00:02\n",
      "   ------------------ --------------------- 5.4/11.5 MB 3.7 MB/s eta 0:00:02\n",
      "   ------------------- -------------------- 5.6/11.5 MB 3.8 MB/s eta 0:00:02\n",
      "   ------------------- -------------------- 5.7/11.5 MB 3.7 MB/s eta 0:00:02\n",
      "   -------------------- ------------------- 5.9/11.5 MB 3.8 MB/s eta 0:00:02\n",
      "   --------------------- ------------------ 6.1/11.5 MB 3.7 MB/s eta 0:00:02\n",
      "   --------------------- ------------------ 6.3/11.5 MB 3.7 MB/s eta 0:00:02\n",
      "   ---------------------- ----------------- 6.4/11.5 MB 3.7 MB/s eta 0:00:02\n",
      "   ----------------------- ---------------- 6.6/11.5 MB 3.8 MB/s eta 0:00:02\n",
      "   ----------------------- ---------------- 6.8/11.5 MB 3.7 MB/s eta 0:00:02\n",
      "   ------------------------ --------------- 7.0/11.5 MB 3.8 MB/s eta 0:00:02\n",
      "   ------------------------ --------------- 7.2/11.5 MB 3.8 MB/s eta 0:00:02\n",
      "   ------------------------- -------------- 7.3/11.5 MB 3.8 MB/s eta 0:00:02\n",
      "   -------------------------- ------------- 7.5/11.5 MB 3.7 MB/s eta 0:00:02\n",
      "   -------------------------- ------------- 7.6/11.5 MB 3.7 MB/s eta 0:00:02\n",
      "   -------------------------- ------------- 7.6/11.5 MB 3.7 MB/s eta 0:00:02\n",
      "   -------------------------- ------------- 7.7/11.5 MB 3.6 MB/s eta 0:00:02\n",
      "   --------------------------- ------------ 7.8/11.5 MB 3.6 MB/s eta 0:00:02\n",
      "   --------------------------- ------------ 7.9/11.5 MB 3.5 MB/s eta 0:00:02\n",
      "   --------------------------- ------------ 8.0/11.5 MB 3.5 MB/s eta 0:00:01\n",
      "   ---------------------------- ----------- 8.3/11.5 MB 3.5 MB/s eta 0:00:01\n",
      "   ----------------------------- ---------- 8.5/11.5 MB 3.6 MB/s eta 0:00:01\n",
      "   ------------------------------ --------- 8.7/11.5 MB 3.6 MB/s eta 0:00:01\n",
      "   ------------------------------- -------- 9.0/11.5 MB 3.6 MB/s eta 0:00:01\n",
      "   -------------------------------- ------- 9.3/11.5 MB 3.7 MB/s eta 0:00:01\n",
      "   --------------------------------- ------ 9.6/11.5 MB 3.7 MB/s eta 0:00:01\n",
      "   --------------------------------- ------ 9.8/11.5 MB 3.7 MB/s eta 0:00:01\n",
      "   ---------------------------------- ----- 9.9/11.5 MB 3.7 MB/s eta 0:00:01\n",
      "   ----------------------------------- ---- 10.1/11.5 MB 3.7 MB/s eta 0:00:01\n",
      "   ----------------------------------- ---- 10.3/11.5 MB 3.7 MB/s eta 0:00:01\n",
      "   ------------------------------------ --- 10.5/11.5 MB 3.7 MB/s eta 0:00:01\n",
      "   ------------------------------------- -- 10.7/11.5 MB 3.7 MB/s eta 0:00:01\n",
      "   ------------------------------------- -- 10.8/11.5 MB 3.7 MB/s eta 0:00:01\n",
      "   -------------------------------------- - 11.0/11.5 MB 3.7 MB/s eta 0:00:01\n",
      "   -------------------------------------- - 11.2/11.5 MB 3.7 MB/s eta 0:00:01\n",
      "   ---------------------------------------  11.3/11.5 MB 3.7 MB/s eta 0:00:01\n",
      "   ---------------------------------------  11.5/11.5 MB 3.7 MB/s eta 0:00:01\n",
      "   ---------------------------------------- 11.5/11.5 MB 3.6 MB/s eta 0:00:00\n",
      "Downloading pytz-2025.2-py2.py3-none-any.whl (509 kB)\n",
      "   ---------------------------------------- 0.0/509.2 kB ? eta -:--:--\n",
      "   ---------------- ----------------------- 215.0/509.2 kB 4.4 MB/s eta 0:00:01\n",
      "   -------------------------------------- - 491.5/509.2 kB 5.1 MB/s eta 0:00:01\n",
      "   ---------------------------------------- 509.2/509.2 kB 4.5 MB/s eta 0:00:00\n",
      "Installing collected packages: pytz, pandas\n",
      "Successfully installed pandas-2.2.3 pytz-2025.2\n"
     ]
    },
    {
     "name": "stderr",
     "output_type": "stream",
     "text": [
      "\n",
      "[notice] A new release of pip is available: 24.1.2 -> 25.0.1\n",
      "[notice] To update, run: python.exe -m pip install --upgrade pip\n"
     ]
    }
   ],
   "source": [
    "!pip install pandas\n"
   ]
  },
  {
   "cell_type": "code",
   "execution_count": 5,
   "id": "95945bf1-38b6-4e50-bd24-577d59653886",
   "metadata": {},
   "outputs": [],
   "source": [
    "import numpy as np\n",
    "import pandas as pd"
   ]
  },
  {
   "cell_type": "code",
   "execution_count": 6,
   "id": "85bf2374-01fb-4b18-a807-7a291975bfb3",
   "metadata": {},
   "outputs": [],
   "source": [
    "# Load data\n",
    "df = pd.read_csv('C:/Users/Pradnya/Downloads/Student_Marks.csv')  # Correct file path & name"
   ]
  },
  {
   "cell_type": "code",
   "execution_count": 7,
   "id": "984dabec-a6ec-4c1b-b8d0-007d9d04ff1b",
   "metadata": {},
   "outputs": [],
   "source": [
    "# Gaussian membership function\n",
    "def gaussian_membership(x, mean, sigma):\n",
    "    return np.exp(-((x - mean) ** 2) / (2 * sigma ** 2))"
   ]
  },
  {
   "cell_type": "code",
   "execution_count": 8,
   "id": "22d10132-28aa-4466-8606-b0690b2270a7",
   "metadata": {},
   "outputs": [],
   "source": [
    "# Get statistical values\n",
    "study_mean = df['time_study'].mean()\n",
    "study_std = df['time_study'].std()\n",
    "\n",
    "marks_mean = df['Marks'].mean()\n",
    "marks_std = df['Marks'].std()\n",
    "\n",
    "min_marks = df['Marks'].min()\n",
    "max_marks = df['Marks'].max()"
   ]
  },
  {
   "cell_type": "code",
   "execution_count": 9,
   "id": "e8b8ce9e-4e68-40eb-a6da-a130a933bf9f",
   "metadata": {},
   "outputs": [],
   "source": [
    "# Fuzzy inference system\n",
    "def fuzzy_trap(hours):\n",
    "    hr_low = gaussian_membership(hours, 0.5, study_std)\n",
    "    hr_high = gaussian_membership(hours, study_mean, study_std)\n",
    "\n",
    "    r1 = hr_low\n",
    "    r2 = hr_high\n",
    "\n",
    "    predicted_marks = ((r1 * min_marks) + (r2 * max_marks)) / (r1 + r2 + 1e-6)  # to avoid division by zero\n",
    "    return predicted_marks"
   ]
  },
  {
   "cell_type": "code",
   "execution_count": 10,
   "id": "139157a6-2a73-40a7-907e-0cbab1e60cef",
   "metadata": {},
   "outputs": [
    {
     "name": "stdin",
     "output_type": "stream",
     "text": [
      "Enter the number of hours of study:  4\n"
     ]
    }
   ],
   "source": [
    "# Input from user\n",
    "study_hours = float(input(\"Enter the number of hours of study: \"))\n",
    "predicted_score = fuzzy_trap(study_hours)\n"
   ]
  },
  {
   "cell_type": "code",
   "execution_count": 11,
   "id": "446ce7ed-2849-4f0a-a670-4c4a13454e35",
   "metadata": {},
   "outputs": [
    {
     "name": "stdout",
     "output_type": "stream",
     "text": [
      "\n",
      "Minimum Marks: 5.609\n",
      "Maximum Marks: 55.299\n",
      "Predicted Marks for 4.0 hours of study: 42.77\n"
     ]
    }
   ],
   "source": [
    "# Output\n",
    "print(f\"\\nMinimum Marks: {min_marks}\")\n",
    "print(f\"Maximum Marks: {max_marks}\")\n",
    "print(f\"Predicted Marks for {study_hours} hours of study: {predicted_score:.2f}\")"
   ]
  },
  {
   "cell_type": "code",
   "execution_count": null,
   "id": "6a975984-38a9-4a4f-813d-ed7c11eaf218",
   "metadata": {},
   "outputs": [],
   "source": []
  },
  {
   "cell_type": "code",
   "execution_count": null,
   "id": "a5a3d90b-2443-4100-b5cf-c580e19a469c",
   "metadata": {},
   "outputs": [],
   "source": []
  },
  {
   "cell_type": "code",
   "execution_count": null,
   "id": "0ca0a674-64b0-49aa-9428-a1e8d4544cbe",
   "metadata": {},
   "outputs": [],
   "source": []
  },
  {
   "cell_type": "code",
   "execution_count": null,
   "id": "7f6627ea-d6ed-4e0a-ac62-8b0b0160ae91",
   "metadata": {},
   "outputs": [],
   "source": []
  },
  {
   "cell_type": "code",
   "execution_count": null,
   "id": "d6e26623-c81a-4e7d-8edc-1a5c123fd8b1",
   "metadata": {},
   "outputs": [],
   "source": []
  },
  {
   "cell_type": "code",
   "execution_count": null,
   "id": "63fc2918-71a3-4802-957c-74475d6ceafe",
   "metadata": {},
   "outputs": [],
   "source": []
  },
  {
   "cell_type": "code",
   "execution_count": null,
   "id": "10acee50-1ad7-4efb-b640-112d3620b61c",
   "metadata": {},
   "outputs": [],
   "source": []
  }
 ],
 "metadata": {
  "kernelspec": {
   "display_name": "Python 3 (ipykernel)",
   "language": "python",
   "name": "python3"
  },
  "language_info": {
   "codemirror_mode": {
    "name": "ipython",
    "version": 3
   },
   "file_extension": ".py",
   "mimetype": "text/x-python",
   "name": "python",
   "nbconvert_exporter": "python",
   "pygments_lexer": "ipython3",
   "version": "3.12.4"
  }
 },
 "nbformat": 4,
 "nbformat_minor": 5
}
