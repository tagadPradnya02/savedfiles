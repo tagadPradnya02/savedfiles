{
 "cells": [
  {
   "cell_type": "code",
   "execution_count": 1,
   "id": "e621ef95-6e1f-430c-841d-a71c69e33a69",
   "metadata": {},
   "outputs": [
    {
     "name": "stdout",
     "output_type": "stream",
     "text": [
      "Accuracy: 94.44\n"
     ]
    }
   ],
   "source": [
    "#RBF\n",
    "import numpy as np\n",
    "from sklearn.datasets import load_wine\n",
    "from sklearn.model_selection import train_test_split\n",
    "from sklearn.preprocessing import MinMaxScaler\n",
    "from sklearn.metrics import accuracy_score\n",
    "\n",
    "x, y = load_wine(return_X_y = True)\n",
    "x = MinMaxScaler().fit_transform(x)\n",
    "x_train, x_test, y_train, y_test = train_test_split(x, y, test_size = 0.1, random_state=42)\n",
    "\n",
    "def rbf_kernel(x1, x2, gamma):\n",
    "    return np.exp(-gamma * np.dot(x1 - x2, (x1 - x2).T))\n",
    "\n",
    "def rbf_classifier(x_train, y_train, x_test, gamma):\n",
    "    return np.array([\n",
    "        y_train[np.argmax([rbf_kernel(x, train, gamma) for train in x_train])]\n",
    "        for x in x_test\n",
    "    ])\n",
    "\n",
    "predictions = rbf_classifier(x_train, y_train, x_test, gamma = 0.5)\n",
    "print(\"Accuracy: %.2f\" % (accuracy_score(y_test, predictions) * 100))"
   ]
  },
  {
   "cell_type": "code",
   "execution_count": null,
   "id": "9f9f4dbc-0efc-44c2-96ad-59a1b62b27a4",
   "metadata": {},
   "outputs": [],
   "source": []
  }
 ],
 "metadata": {
  "kernelspec": {
   "display_name": "Python 3 (ipykernel)",
   "language": "python",
   "name": "python3"
  },
  "language_info": {
   "codemirror_mode": {
    "name": "ipython",
    "version": 3
   },
   "file_extension": ".py",
   "mimetype": "text/x-python",
   "name": "python",
   "nbconvert_exporter": "python",
   "pygments_lexer": "ipython3",
   "version": "3.12.4"
  }
 },
 "nbformat": 4,
 "nbformat_minor": 5
}
